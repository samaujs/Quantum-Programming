{
 "cells": [
  {
   "cell_type": "markdown",
   "metadata": {},
   "source": [
    "# IBM Quantum Computing Workshop (18 May 2020)"
   ]
  },
  {
   "cell_type": "markdown",
   "metadata": {},
   "source": [
    "- Only need to safe the token once obtained from the IBM Quantum Experience account\n",
    "- from qiskit import IBMQ\n",
    "- IBMQ.save_account('Token')"
   ]
  },
  {
   "cell_type": "code",
   "execution_count": 1,
   "metadata": {},
   "outputs": [],
   "source": [
    "from qiskit import IBMQ\n",
    "provider = IBMQ.load_account()"
   ]
  },
  {
   "cell_type": "code",
   "execution_count": 2,
   "metadata": {},
   "outputs": [
    {
     "data": {
      "text/plain": [
       "'0.14.1'"
      ]
     },
     "execution_count": 2,
     "metadata": {},
     "output_type": "execute_result"
    }
   ],
   "source": [
    "import qiskit\n",
    "\n",
    "qiskit.__version__"
   ]
  },
  {
   "cell_type": "markdown",
   "metadata": {},
   "source": [
    "# Getting Started with Aer"
   ]
  },
  {
   "cell_type": "code",
   "execution_count": 3,
   "metadata": {},
   "outputs": [],
   "source": [
    "import numpy as np\n",
    "from qiskit import(QuantumCircuit,\n",
    "                   execute,\n",
    "                   Aer)\n",
    "from qiskit.visualization import plot_histogram"
   ]
  },
  {
   "cell_type": "code",
   "execution_count": 4,
   "metadata": {},
   "outputs": [
    {
     "data": {
      "text/plain": [
       "[<QasmSimulator('qasm_simulator') from AerProvider()>,\n",
       " <StatevectorSimulator('statevector_simulator') from AerProvider()>,\n",
       " <UnitarySimulator('unitary_simulator') from AerProvider()>,\n",
       " <PulseSimulator('pulse_simulator') from AerProvider()>]"
      ]
     },
     "execution_count": 4,
     "metadata": {},
     "output_type": "execute_result"
    }
   ],
   "source": [
    "Aer.backends()"
   ]
  },
  {
   "cell_type": "code",
   "execution_count": 5,
   "metadata": {},
   "outputs": [
    {
     "data": {
      "text/plain": [
       "[<QasmSimulatorPy('qasm_simulator') from BasicAer()>,\n",
       " <StatevectorSimulatorPy('statevector_simulator') from BasicAer()>,\n",
       " <UnitarySimulatorPy('unitary_simulator') from BasicAer()>]"
      ]
     },
     "execution_count": 5,
     "metadata": {},
     "output_type": "execute_result"
    }
   ],
   "source": [
    "from qiskit import BasicAer\n",
    "BasicAer.backends()"
   ]
  },
  {
   "cell_type": "code",
   "execution_count": 6,
   "metadata": {},
   "outputs": [
    {
     "data": {
      "text/plain": [
       "[<IBMQSimulator('ibmq_qasm_simulator') from IBMQ(hub='ibm-q', group='open', project='main')>,\n",
       " <IBMQBackend('ibmqx2') from IBMQ(hub='ibm-q', group='open', project='main')>,\n",
       " <IBMQBackend('ibmq_16_melbourne') from IBMQ(hub='ibm-q', group='open', project='main')>,\n",
       " <IBMQBackend('ibmq_vigo') from IBMQ(hub='ibm-q', group='open', project='main')>,\n",
       " <IBMQBackend('ibmq_ourense') from IBMQ(hub='ibm-q', group='open', project='main')>,\n",
       " <IBMQBackend('ibmq_london') from IBMQ(hub='ibm-q', group='open', project='main')>,\n",
       " <IBMQBackend('ibmq_burlington') from IBMQ(hub='ibm-q', group='open', project='main')>,\n",
       " <IBMQBackend('ibmq_essex') from IBMQ(hub='ibm-q', group='open', project='main')>,\n",
       " <IBMQBackend('ibmq_armonk') from IBMQ(hub='ibm-q', group='open', project='main')>,\n",
       " <IBMQBackend('ibmq_rome') from IBMQ(hub='ibm-q', group='open', project='main')>]"
      ]
     },
     "execution_count": 6,
     "metadata": {},
     "output_type": "execute_result"
    }
   ],
   "source": [
    "# Providers available in personal account\n",
    "provider.backends()"
   ]
  },
  {
   "cell_type": "code",
   "execution_count": 7,
   "metadata": {},
   "outputs": [
    {
     "data": {
      "text/plain": [
       "[<IBMQSimulator('ibmq_qasm_simulator') from IBMQ(hub='ibm-q', group='open', project='main')>]"
      ]
     },
     "execution_count": 7,
     "metadata": {},
     "output_type": "execute_result"
    }
   ],
   "source": [
    "# Simulators that are available\n",
    "provider.backends(simulator=True)"
   ]
  },
  {
   "cell_type": "code",
   "execution_count": 8,
   "metadata": {},
   "outputs": [
    {
     "data": {
      "text/html": [
       "<pre style=\"word-wrap: normal;white-space: pre;background: #fff0;line-height: 1.1;font-family: &quot;Courier New&quot;,Courier,monospace\">     ┌───┐     ┌─┐   \n",
       "q_0: ┤ H ├──■──┤M├───\n",
       "     └───┘┌─┴─┐└╥┘┌─┐\n",
       "q_1: ─────┤ X ├─╫─┤M├\n",
       "          └───┘ ║ └╥┘\n",
       "c_0: ═══════════╩══╬═\n",
       "                   ║ \n",
       "c_1: ══════════════╩═\n",
       "                     </pre>"
      ],
      "text/plain": [
       "     ┌───┐     ┌─┐   \n",
       "q_0: ┤ H ├──■──┤M├───\n",
       "     └───┘┌─┴─┐└╥┘┌─┐\n",
       "q_1: ─────┤ X ├─╫─┤M├\n",
       "          └───┘ ║ └╥┘\n",
       "c_0: ═══════════╩══╬═\n",
       "                   ║ \n",
       "c_1: ══════════════╩═\n",
       "                     "
      ]
     },
     "execution_count": 8,
     "metadata": {},
     "output_type": "execute_result"
    }
   ],
   "source": [
    "qc = QuantumCircuit(2, 2)\n",
    "qc.h(0)\n",
    "qc.cx(0, 1)\n",
    "qc.measure([0, 1], [0, 1])\n",
    "qc.draw()"
   ]
  },
  {
   "cell_type": "code",
   "execution_count": 9,
   "metadata": {},
   "outputs": [
    {
     "name": "stdout",
     "output_type": "stream",
     "text": [
      "Result counts : {'00': 517, '11': 507}\n"
     ]
    }
   ],
   "source": [
    "from qiskit.providers.aer import QasmSimulator\n",
    "backend_simulator = QasmSimulator()\n",
    "\n",
    "# Set the backend options with \"method\" set as \"statevector\"\n",
    "options = {'method': 'statevector'}\n",
    "\n",
    "# Execute circuit using the backend options created\n",
    "job = execute(qc, backend_simulator, backend_options=options)\n",
    "\n",
    "# Print the result counts\n",
    "result = job.result()\n",
    "counts = result.get_counts(qc)\n",
    "\n",
    "# Almost 50% chances for '00' and '11' out of 1024 shots\n",
    "print(\"Result counts :\", counts)"
   ]
  },
  {
   "cell_type": "code",
   "execution_count": 10,
   "metadata": {},
   "outputs": [
    {
     "name": "stdout",
     "output_type": "stream",
     "text": [
      "The retrieved memory results :\n",
      " ['00', '00', '11', '00', '11', '11', '11', '00', '00', '00', '11', '11', '00', '00', '00', '11', '00', '11', '00', '00']\n"
     ]
    }
   ],
   "source": [
    "# View each measurement individually by enabling the memory parameter for storing\n",
    "aer_backend = Aer.get_backend('qasm_simulator')\n",
    "\n",
    "# Set backend, shots, memory parameters and retrieve execution results\n",
    "result = execute(qc, backend=aer_backend, shots=20, memory=True).result()\n",
    "\n",
    "# Retrieve the individual results from the memory slots and print them\n",
    "memory = result.get_memory(qc)\n",
    "print(\"The retrieved memory results :\\n\", memory)"
   ]
  },
  {
   "cell_type": "code",
   "execution_count": 11,
   "metadata": {},
   "outputs": [
    {
     "data": {
      "text/html": [
       "<pre style=\"word-wrap: normal;white-space: pre;background: #fff0;line-height: 1.1;font-family: &quot;Courier New&quot;,Courier,monospace\">     ┌──────────────────────────────────┐┌─┐   \n",
       "q_0: ┤0                                 ├┤M├───\n",
       "     │  initialize(0.70711,0,0,0.70711) │└╥┘┌─┐\n",
       "q_1: ┤1                                 ├─╫─┤M├\n",
       "     └──────────────────────────────────┘ ║ └╥┘\n",
       "c_0: ═════════════════════════════════════╩══╬═\n",
       "                                             ║ \n",
       "c_1: ════════════════════════════════════════╩═\n",
       "                                               </pre>"
      ],
      "text/plain": [
       "     ┌──────────────────────────────────┐┌─┐   \n",
       "q_0: ┤0                                 ├┤M├───\n",
       "     │  initialize(0.70711,0,0,0.70711) │└╥┘┌─┐\n",
       "q_1: ┤1                                 ├─╫─┤M├\n",
       "     └──────────────────────────────────┘ ║ └╥┘\n",
       "c_0: ═════════════════════════════════════╩══╬═\n",
       "                                             ║ \n",
       "c_1: ════════════════════════════════════════╩═\n",
       "                                               "
      ]
     },
     "execution_count": 11,
     "metadata": {},
     "output_type": "execute_result"
    }
   ],
   "source": [
    "# Construct a 2 qubit quantum ciruit\n",
    "qc_init = QuantumCircuit(2, 2)\n",
    "\n",
    "# Use numpy to simplify some maths\n",
    "# Select the qubits by their indexes for initialization\n",
    "init_qubits = [0, 1]\n",
    "\n",
    "# Initialize the qubit states, the square values should add up to 1\n",
    "qc_init.initialize([1, 0, 0, 1] / np.sqrt(2), init_qubits)\n",
    "\n",
    "# Add measurements and draw the initialized circuit\n",
    "qc_init.measure(range(2), range(2))\n",
    "qc_init.decompose()\n",
    "qc_init.draw()"
   ]
  },
  {
   "cell_type": "code",
   "execution_count": 12,
   "metadata": {},
   "outputs": [
    {
     "name": "stdout",
     "output_type": "stream",
     "text": [
      "The retrieved memory results for initialized circuit :\n",
      " ['11', '00', '11', '00', '11', '00', '00', '00', '00', '11', '11', '00', '00', '11', '11', '11', '11', '00', '11', '11']\n"
     ]
    }
   ],
   "source": [
    "result = execute(qc_init, aer_backend, shots=20, memory=True).result()\n",
    "\n",
    "# Retrieve the initialized results from the memory slots and print them\n",
    "memory = result.get_memory(qc_init)\n",
    "print(\"The retrieved memory results for initialized circuit :\\n\", memory)"
   ]
  },
  {
   "cell_type": "code",
   "execution_count": 13,
   "metadata": {},
   "outputs": [
    {
     "data": {
      "text/html": [
       "<pre style=\"word-wrap: normal;white-space: pre;background: #fff0;line-height: 1.1;font-family: &quot;Courier New&quot;,Courier,monospace\">                                              ░ ┌─┐         \n",
       "q_0: ─────────────────────────────────────────░─┤M├─────────\n",
       "     ┌──────────────────────────────────────┐ ░ └╥┘┌─┐      \n",
       "q_1: ┤0                                     ├─░──╫─┤M├──────\n",
       "     │                                      │ ░  ║ └╥┘┌─┐   \n",
       "q_2: ┤1 initialize(0,0.5,0,0.5,0,0.5,0,0.5) ├─░──╫──╫─┤M├───\n",
       "     │                                      │ ░  ║  ║ └╥┘┌─┐\n",
       "q_3: ┤2                                     ├─░──╫──╫──╫─┤M├\n",
       "     └──────────────────────────────────────┘ ░  ║  ║  ║ └╥┘\n",
       "c_0: ════════════════════════════════════════════╩══╬══╬══╬═\n",
       "                                                    ║  ║  ║ \n",
       "c_1: ═══════════════════════════════════════════════╩══╬══╬═\n",
       "                                                       ║  ║ \n",
       "c_2: ══════════════════════════════════════════════════╩══╬═\n",
       "                                                          ║ \n",
       "c_3: ═════════════════════════════════════════════════════╩═\n",
       "                                                            </pre>"
      ],
      "text/plain": [
       "                                              ░ ┌─┐         \n",
       "q_0: ─────────────────────────────────────────░─┤M├─────────\n",
       "     ┌──────────────────────────────────────┐ ░ └╥┘┌─┐      \n",
       "q_1: ┤0                                     ├─░──╫─┤M├──────\n",
       "     │                                      │ ░  ║ └╥┘┌─┐   \n",
       "q_2: ┤1 initialize(0,0.5,0,0.5,0,0.5,0,0.5) ├─░──╫──╫─┤M├───\n",
       "     │                                      │ ░  ║  ║ └╥┘┌─┐\n",
       "q_3: ┤2                                     ├─░──╫──╫──╫─┤M├\n",
       "     └──────────────────────────────────────┘ ░  ║  ║  ║ └╥┘\n",
       "c_0: ════════════════════════════════════════════╩══╬══╬══╬═\n",
       "                                                    ║  ║  ║ \n",
       "c_1: ═══════════════════════════════════════════════╩══╬══╬═\n",
       "                                                       ║  ║ \n",
       "c_2: ══════════════════════════════════════════════════╩══╬═\n",
       "                                                          ║ \n",
       "c_3: ═════════════════════════════════════════════════════╩═\n",
       "                                                            "
      ]
     },
     "execution_count": 13,
     "metadata": {},
     "output_type": "execute_result"
    }
   ],
   "source": [
    "# Construct a 4 qubit quantum ciruit\n",
    "qc_init2 = QuantumCircuit(4, 4)\n",
    "\n",
    "# Initialize only the last 3 qubits\n",
    "initialized_qubits = [1, 2, 3]\n",
    "\n",
    "# Initialize the qubit states, the sum of amplitude-square values MUST be equal to 1\n",
    "qc_init2.initialize([0, 1, 0, 1, 0, 1, 0, 1] / np.sqrt(4), initialized_qubits)\n",
    "\n",
    "# Add a barrier for ease of reading\n",
    "qc_init2.barrier(range(4))\n",
    "\n",
    "# Add measurements and draw the initialized circuit\n",
    "qc_init2.measure(range(4), range(4))\n",
    "qc_init2.decompose()\n",
    "qc_init2.draw()"
   ]
  },
  {
   "cell_type": "code",
   "execution_count": 14,
   "metadata": {},
   "outputs": [
    {
     "name": "stdout",
     "output_type": "stream",
     "text": [
      "The retrieved count results :\n",
      " {'0010': 260, '1010': 247, '0110': 258, '1110': 259}\n"
     ]
    },
    {
     "data": {
      "image/png": "[encoded data removed]",
      "text/plain": [
       "<Figure size 504x360 with 1 Axes>"
      ]
     },
     "execution_count": 14,
     "metadata": {},
     "output_type": "execute_result"
    }
   ],
   "source": [
    "result = execute(qc_init2, backend_simulator).result()\n",
    "counts = result.get_counts(qc_init2)\n",
    "\n",
    "print(\"The retrieved count results :\\n\", counts)\n",
    "plot_histogram(counts)"
   ]
  },
  {
   "cell_type": "markdown",
   "metadata": {},
   "source": [
    "## H-gate is (2,2) matrix of ((1,1), (1, -1))"
   ]
  },
  {
   "cell_type": "code",
   "execution_count": 15,
   "metadata": {},
   "outputs": [
    {
     "name": "stdout",
     "output_type": "stream",
     "text": [
      "Unitary of the circuit :\n",
      " [[ 0.70710678+0.00000000e+00j  0.70710678-8.65956056e-17j]\n",
      " [ 0.70710678+0.00000000e+00j -0.70710678+8.65956056e-17j]]\n"
     ]
    }
   ],
   "source": [
    "qc = QuantumCircuit(1)\n",
    "qc.h(0)\n",
    "\n",
    "#qc.z(0)\n",
    "# Unitary of the circuit :\n",
    "# [[ 0.70710678+0.00000000e+00j  0.70710678-8.65956056e-17j]\n",
    "# [-0.70710678+0.00000000e+00j  0.70710678-8.65956056e-17j]]\n",
    "    \n",
    "# Set the simulator to the UnitarySimulator from the Aer provider\n",
    "simulator = Aer.get_backend('unitary_simulator')\n",
    "\n",
    "# Execute the circuit on the unitary simulator\n",
    "result = execute(qc, simulator).result()\n",
    "\n",
    "# Extract the unitary matrix from the results and print it\n",
    "unitary = result.get_unitary(qc)\n",
    "print(\"Unitary of the circuit :\\n\", unitary)"
   ]
  },
  {
   "cell_type": "code",
   "execution_count": 16,
   "metadata": {},
   "outputs": [
    {
     "name": "stdout",
     "output_type": "stream",
     "text": [
      "The retrieved count results :\n",
      " {'00': 529, '11': 495}\n"
     ]
    },
    {
     "data": {
      "image/png": "[encoded data removed]",
      "text/plain": [
       "<Figure size 504x360 with 1 Axes>"
      ]
     },
     "execution_count": 16,
     "metadata": {},
     "output_type": "execute_result"
    }
   ],
   "source": [
    "# Construct a 2 qubit quantum ciruit\n",
    "qc2 = QuantumCircuit(2, 2)\n",
    "qc2.h(0)\n",
    "qc2.cx(0,1)\n",
    "qc2.measure([0, 1],  [0, 1])\n",
    "\n",
    "# Execute the circuit on the qasm simulator\n",
    "result = execute(qc2, Aer.get_backend('qasm_simulator')).result()\n",
    "counts = result.get_counts()\n",
    "\n",
    "print(\"The retrieved count results :\\n\", counts)\n",
    "plot_histogram(counts)"
   ]
  },
  {
   "cell_type": "markdown",
   "metadata": {},
   "source": [
    "## Introducing Noise"
   ]
  },
  {
   "cell_type": "code",
   "execution_count": 17,
   "metadata": {
    "scrolled": true
   },
   "outputs": [
    {
     "name": "stdout",
     "output_type": "stream",
     "text": [
      "The retrieved count results :\n",
      " {'10': 42, '00': 465, '01': 34, '11': 483}\n"
     ]
    },
    {
     "data": {
      "image/png": "[encoded data removed]",
      "text/plain": [
       "<Figure size 504x360 with 1 Axes>"
      ]
     },
     "execution_count": 17,
     "metadata": {},
     "output_type": "execute_result"
    }
   ],
   "source": [
    "from qiskit.providers.aer.noise import NoiseModel\n",
    "\n",
    "backend = provider.get_backend('ibmq_rome')\n",
    "noise_model = NoiseModel.from_backend(backend)\n",
    "\n",
    "# Get coupling map from backend\n",
    "coupling_map = backend.configuration().coupling_map\n",
    "\n",
    "# Get basis gates from the noise model\n",
    "basis_gates = noise_model.basis_gates\n",
    "\n",
    "# Perform noise simulation\n",
    "result = execute(qc2, Aer.get_backend('qasm_simulator'),\n",
    "                 coupling_map=coupling_map,\n",
    "                 basis_gates=basis_gates,\n",
    "                 noise_model=noise_model).result()\n",
    "\n",
    "counts = result.get_counts()\n",
    "\n",
    "print(\"The retrieved count results :\\n\", counts)\n",
    "plot_histogram(counts)"
   ]
  },
  {
   "cell_type": "code",
   "execution_count": 18,
   "metadata": {},
   "outputs": [
    {
     "name": "stdout",
     "output_type": "stream",
     "text": [
      "The retrieved count results :\n",
      " {'10': 109, '00': 405, '01': 73, '11': 437}\n"
     ]
    },
    {
     "data": {
      "image/png": "[encoded data removed]",
      "text/plain": [
       "<Figure size 504x360 with 1 Axes>"
      ]
     },
     "execution_count": 18,
     "metadata": {},
     "output_type": "execute_result"
    }
   ],
   "source": [
    "result = execute(qc2, provider.get_backend('ibmq_rome')).result()\n",
    "counts = result.get_counts()\n",
    "\n",
    "print(\"The retrieved count results :\\n\", counts)\n",
    "plot_histogram(counts)"
   ]
  },
  {
   "cell_type": "code",
   "execution_count": 19,
   "metadata": {},
   "outputs": [
    {
     "data": {
      "application/vnd.jupyter.widget-view+json": {
       "model_id": "c803527fa08644acb29fedafccac3975",
       "version_major": 2,
       "version_minor": 0
      },
      "text/plain": [
       "Accordion(children=(VBox(layout=Layout(max_width='710px', min_width='710px')),), layout=Layout(max_height='500…"
      ]
     },
     "metadata": {},
     "output_type": "display_data"
    },
    {
     "data": {
      "application/javascript": [
       "$('div.job_widget')\n",
       "        .detach()\n",
       "        .appendTo($('#header'))\n",
       "        .css({\n",
       "            'z-index': 999,\n",
       "             'position': 'fixed',\n",
       "            'box-shadow': '5px 5px 5px -3px black',\n",
       "            'opacity': 0.95,\n",
       "            'float': 'left,'\n",
       "        })\n",
       "        "
      ],
      "text/plain": [
       "<IPython.core.display.Javascript object>"
      ]
     },
     "metadata": {},
     "output_type": "display_data"
    }
   ],
   "source": [
    "from qiskit.tools import jupyter\n",
    "%qiskit_job_watcher"
   ]
  },
  {
   "cell_type": "code",
   "execution_count": 20,
   "metadata": {},
   "outputs": [],
   "source": [
    "backend = provider.get_backend('ibmq_rome')\n",
    "\n",
    "qc = QuantumCircuit(1)\n",
    "qc.h(0)\n",
    "qc.measure_all()\n",
    "\n",
    "job = execute(qc, backend)"
   ]
  },
  {
   "cell_type": "code",
   "execution_count": 21,
   "metadata": {},
   "outputs": [],
   "source": [
    "backend = provider.get_backend('ibmq_vigo')\n",
    "\n",
    "qc = QuantumCircuit(1)\n",
    "qc.h(0)\n",
    "qc.measure_all()\n",
    "\n",
    "job = execute(qc, backend)"
   ]
  },
  {
   "cell_type": "markdown",
   "metadata": {},
   "source": [
    "# End of Program"
   ]
  }
 ],
 "metadata": {
  "kernelspec": {
   "display_name": "Python 3",
   "language": "python",
   "name": "python3"
  },
  "language_info": {
   "codemirror_mode": {
    "name": "ipython",
    "version": 3
   },
   "file_extension": ".py",
   "mimetype": "text/x-python",
   "name": "python",
   "nbconvert_exporter": "python",
   "pygments_lexer": "ipython3",
   "version": "3.6.9"
  }
 },
 "nbformat": 4,
 "nbformat_minor": 4
}
